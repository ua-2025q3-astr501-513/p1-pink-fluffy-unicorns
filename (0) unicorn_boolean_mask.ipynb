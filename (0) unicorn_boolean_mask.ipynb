{
 "cells": [
  {
   "cell_type": "code",
   "execution_count": null,
   "metadata": {},
   "outputs": [],
   "source": [
    "import cv2\n",
    "import numpy as np\n",
    "import matplotlib.pyplot as plt\n",
    "\n",
    "path = 'unicorn.jpg'\n",
    "\n",
    "# 1) Load and prep\n",
    "\n",
    "img = cv2.imread(path, cv2.IMREAD_GRAYSCALE)\n",
    "\n",
    "# 2) Threshold (invert so unicorn ~ white); Otsu picks a good cutoff\n",
    "_, th = cv2.threshold(img, 0, 255, cv2.THRESH_BINARY_INV + cv2.THRESH_OTSU)\n",
    "\n",
    "# 3) Connect gaps a bit so the outline is continuous\n",
    "th = cv2.morphologyEx(th, cv2.MORPH_CLOSE, np.ones((5,5), np.uint8), iterations=2)\n",
    "\n",
    "# 4) Get ONLY the OUTER contours (no holes)\n",
    "cnts, _ = cv2.findContours(th, cv2.RETR_EXTERNAL, cv2.CHAIN_APPROX_SIMPLE)\n",
    "\n",
    "# 5) Pick the biggest contour (the unicorn); adjust if you also grabbed the ground shadow\n",
    "largest = max(cnts, key=cv2.contourArea)\n",
    "\n",
    "# 6) Make a clean mask of just that outer shape, filled\n",
    "mask = np.zeros_like(img, dtype=np.uint8)\n",
    "cv2.drawContours(mask, [largest], contourIdx=-1, color=255, thickness=cv2.FILLED)\n",
    "\n",
    "# (Optional) If you also captured the ground shadow and want to drop it, you can\n",
    "# remove small/flat contours instead of max-by-area. Ask and I’ll give that variant.\n",
    "\n",
    "# 7) Build the silhouette: unicorn = black (0), background = white (255)\n",
    "silhouette = np.where(mask==255, 0, 255).astype(np.uint8)\n",
    "\n",
    "# Show\n",
    "plt.figure(figsize=(5,5))\n",
    "plt.imshow(silhouette, cmap='gray')\n",
    "plt.axis('off')\n",
    "plt.title('Solid Unicorn Silhouette')\n",
    "plt.show()\n",
    "\n",
    "# Save\n",
    "cv2.imwrite('unicorn_silhouette.png', silhouette)"
   ]
  },
  {
   "cell_type": "code",
   "execution_count": null,
   "metadata": {},
   "outputs": [],
   "source": [
    "plt.figure()\n",
    "plt.imshow(silhouette, cmap = 'gray')\n",
    "plt.show()"
   ]
  },
  {
   "cell_type": "code",
   "execution_count": null,
   "metadata": {},
   "outputs": [],
   "source": [
    "np.savez(\"unicorn_boolean_mask\", silhouette)"
   ]
  }
 ],
 "metadata": {
  "language_info": {
   "name": "python"
  }
 },
 "nbformat": 4,
 "nbformat_minor": 2
}
