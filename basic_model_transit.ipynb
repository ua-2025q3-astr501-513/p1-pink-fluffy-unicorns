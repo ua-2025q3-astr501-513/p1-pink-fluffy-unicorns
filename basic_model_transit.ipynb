{
 "cells": [
  {
   "cell_type": "code",
   "execution_count": null,
   "id": "54f11838-8171-4c3d-8c32-7fa704ffdd1a",
   "metadata": {},
   "outputs": [
    {
     "ename": "",
     "evalue": "",
     "output_type": "error",
     "traceback": [
      "\u001b[1;31mFailed to start the Kernel. \n",
      "\u001b[1;31merror: failed-wheel-build-for-install\n",
      "\u001b[1;31m\n",
      "\u001b[1;31m× Failed to build installable wheels for some pyproject.toml based projects\n",
      "\u001b[1;31m╰─> pyzmq. \n",
      "\u001b[1;31mView Jupyter <a href='command:jupyter.viewOutput'>log</a> for further details."
     ]
    }
   ],
   "source": [
    "print(\"Start\")\n",
    "# Import necessary dependencies\n",
    "from pfu_transit.mask_generation import generate_star, generate_exoplanet\n",
    "from pfu_transit.photometry_simulation import photometric_observation\n",
    "# Standard imports\n",
    "import matplotlib.pyplot as plt\n",
    "import numpy as np\n",
    "import warnings\n",
    "import astropy.constants as c\n",
    "warnings.filterwarnings(\"ignore\")\n",
    "print(\"Imports loaded\")\n",
    "\n",
    "# EXOPLANET (based on HD189733b)\n",
    "exoplanet_mask = generate_exoplanet(wavelength=0.5, planet_radius = 1.1*c.R_jup/c.R_sun, b=0.5)\n",
    "\n",
    "# STAR\n",
    "star_mask = generate_star(wavelength=0.5, stellar_radius = 0.8, stellar_temperature=4800, stellar_oblateness = 0)\n",
    "\n",
    "np.savez(\"transit_masks\", exoplanet_mask, star_mask)"
   ]
  },
  {
   "cell_type": "code",
   "execution_count": null,
   "id": "65622d8d-ccf8-4dab-8cec-58d4a845348b",
   "metadata": {},
   "outputs": [
    {
     "ename": "",
     "evalue": "",
     "output_type": "error",
     "traceback": [
      "\u001b[1;31mFailed to start the Kernel. \n",
      "\u001b[1;31merror: failed-wheel-build-for-install\n",
      "\u001b[1;31m\n",
      "\u001b[1;31m× Failed to build installable wheels for some pyproject.toml based projects\n",
      "\u001b[1;31m╰─> pyzmq. \n",
      "\u001b[1;31mView Jupyter <a href='command:jupyter.viewOutput'>log</a> for further details."
     ]
    }
   ],
   "source": [
    "masks = np.load(\"transit_masks.npz\")\n",
    "exoplanet_mask = masks[\"arr_0\"]\n",
    "star_mask = masks[\"arr_1\"]\n",
    "\n",
    "plt.imshow(exoplanet_mask)\n",
    "plt.show()\n",
    "\n",
    "plt.imshow(star_mask)\n",
    "plt.show()"
   ]
  },
  {
   "cell_type": "code",
   "execution_count": null,
   "id": "aa946068-8441-4d7a-bc55-7e261a0c4196",
   "metadata": {},
   "outputs": [
    {
     "ename": "",
     "evalue": "",
     "output_type": "error",
     "traceback": [
      "\u001b[1;31mFailed to start the Kernel. \n",
      "\u001b[1;31merror: failed-wheel-build-for-install\n",
      "\u001b[1;31m\n",
      "\u001b[1;31m× Failed to build installable wheels for some pyproject.toml based projects\n",
      "\u001b[1;31m╰─> pyzmq. \n",
      "\u001b[1;31mView Jupyter <a href='command:jupyter.viewOutput'>log</a> for further details."
     ]
    }
   ],
   "source": [
    "image_directory = r\"C:\\Users\\mmc\\Music\\exoplanet_images\"\n",
    "\n",
    "# velocity is for HD189733b\n",
    "times, flux = photometric_observation(star_mask, exoplanet_mask,velocity=0.78, step=1)"
   ]
  },
  {
   "cell_type": "code",
   "execution_count": null,
   "id": "7078e277-f692-4fec-96a7-363cb7334415",
   "metadata": {},
   "outputs": [
    {
     "ename": "",
     "evalue": "",
     "output_type": "error",
     "traceback": [
      "\u001b[1;31mFailed to start the Kernel. \n",
      "\u001b[1;31merror: failed-wheel-build-for-install\n",
      "\u001b[1;31m\n",
      "\u001b[1;31m× Failed to build installable wheels for some pyproject.toml based projects\n",
      "\u001b[1;31m╰─> pyzmq. \n",
      "\u001b[1;31mView Jupyter <a href='command:jupyter.viewOutput'>log</a> for further details."
     ]
    }
   ],
   "source": [
    "plt.scatter(times - np.median(times), flux/flux[0], s=1)\n",
    "plt.ylabel(\"Flux (norm)\")\n",
    "plt.xlabel(\"t (hours)\")\n",
    "plt.show()"
   ]
  }
 ],
 "metadata": {
  "kernelspec": {
   "display_name": "Python 3 (ipykernel)",
   "language": "python",
   "name": "python3"
  },
  "language_info": {
   "codemirror_mode": {
    "name": "ipython",
    "version": 3
   },
   "file_extension": ".py",
   "mimetype": "text/x-python",
   "name": "python",
   "nbconvert_exporter": "python",
   "pygments_lexer": "ipython3",
   "version": "3.12.2"
  }
 },
 "nbformat": 4,
 "nbformat_minor": 5
}
